{
 "cells": [
  {
   "cell_type": "markdown",
   "metadata": {
    "toc": true
   },
   "source": [
    "<h1>Table of Contents<span class=\"tocSkip\"></span></h1>\n",
    "<div class=\"toc\"><ul class=\"toc-item\"><li><span><a href=\"#Hardware-Requirements-and-Performances\" data-toc-modified-id=\"Hardware-Requirements-and-Performances-1\">Hardware Requirements and Performances</a></span><ul class=\"toc-item\"><li><span><a href=\"#RAM-memory\" data-toc-modified-id=\"RAM-memory-1.1\">RAM memory</a></span></li><li><span><a href=\"#Disk-space\" data-toc-modified-id=\"Disk-space-1.2\">Disk space</a></span></li><li><span><a href=\"#Calculation-(CPU)-time\" data-toc-modified-id=\"Calculation-(CPU)-time-1.3\">Calculation (CPU) time</a></span></li></ul></li><li><span><a href=\"#Software\" data-toc-modified-id=\"Software-2\">Software</a></span><ul class=\"toc-item\"><li><span><a href=\"#Conda\" data-toc-modified-id=\"Conda-2.1\">Conda</a></span></li><li><span><a href=\"#Python-dependencies\" data-toc-modified-id=\"Python-dependencies-2.2\">Python dependencies</a></span></li><li><span><a href=\"#GEM-Mapper\" data-toc-modified-id=\"GEM-Mapper-2.3\">GEM Mapper</a></span></li><li><span><a href=\"#DryHiC-for-oneD-normalization\" data-toc-modified-id=\"DryHiC-for-oneD-normalization-2.4\">DryHiC for oneD normalization</a></span></li><li><span><a href=\"#DSRC-FASTQ-compressor\" data-toc-modified-id=\"DSRC-FASTQ-compressor-2.5\">DSRC FASTQ compressor</a></span></li><li><span><a href=\"#TADbit\" data-toc-modified-id=\"TADbit-2.6\">TADbit</a></span></li></ul></li></ul></div>"
   ]
  },
  {
   "cell_type": "markdown",
   "metadata": {},
   "source": [
    "# Hardware Requirements and Performances"
   ]
  },
  {
   "cell_type": "markdown",
   "metadata": {},
   "source": [
    "## RAM memory"
   ]
  },
  {
   "cell_type": "markdown",
   "metadata": {},
   "source": [
    "It is especially important when loading matrices at high resolution. About 32 Gigabytes (GB) of RAM should be sufficient."
   ]
  },
  {
   "cell_type": "markdown",
   "metadata": {},
   "source": [
    "## Disk space"
   ]
  },
  {
   "cell_type": "markdown",
   "metadata": {},
   "source": [
    "The data processing occupies around 500 GB per experiment (temporary storage). Some intermediate files are compressed or erased after processing, thus the storage of the final output files occupies around 50 GB per experiment (long-term storage)."
   ]
  },
  {
   "cell_type": "markdown",
   "metadata": {},
   "source": [
    "## Calculation (CPU) time"
   ]
  },
  {
   "cell_type": "markdown",
   "metadata": {},
   "source": [
    "An 8 cores computer can perform the data processing in about one day. The time for 3D model generation and analysis depends on the size of the considered region and on the specific calculations required."
   ]
  },
  {
   "cell_type": "markdown",
   "metadata": {},
   "source": [
    "# Software"
   ]
  },
  {
   "cell_type": "markdown",
   "metadata": {},
   "source": [
    "__Note:__ _The following list of software installation directives are compatible with 64 bits linux machines. But most of them are also valid on MACOS_"
   ]
  },
  {
   "cell_type": "markdown",
   "metadata": {},
   "source": [
    "## Conda"
   ]
  },
  {
   "cell_type": "markdown",
   "metadata": {},
   "source": [
    "Conda (http://conda.pydata.org/docs/index.html) is a package manager, mainly hosting python programs, that is very useful when no root access is available and the softwares have complicated dependencies.\n",
    "\n",
    "To install it (__in case you don't already have it__) just download the installer from http://conda.pydata.org/miniconda.html"
   ]
  },
  {
   "cell_type": "code",
   "execution_count": 1,
   "metadata": {},
   "outputs": [
    {
     "name": "stderr",
     "output_type": "stream",
     "text": [
      "2018-09-28 00:39:07 URL:https://repo.continuum.io/miniconda/Miniconda2-latest-Linux-x86_64.sh [41787735/41787735] -> \"miniconda.sh\" [1]\n"
     ]
    }
   ],
   "source": [
    "%%bash\n",
    "\n",
    "wget -nv https://repo.continuum.io/miniconda/Miniconda2-latest-Linux-x86_64.sh -O miniconda.sh"
   ]
  },
  {
   "cell_type": "markdown",
   "metadata": {},
   "source": [
    "And run it with all the default options. The installer will create a `miniconda2` folder in your home directory where all the programs that you need will be stored (including python).\n",
    "\n",
    "Alternatively you can also use this oneliner:"
   ]
  },
  {
   "cell_type": "code",
   "execution_count": 2,
   "metadata": {},
   "outputs": [
    {
     "name": "stdout",
     "output_type": "stream",
     "text": [
      "PREFIX=/home/fransua/miniconda2\n",
      "installing: python-2.7.15-h1571d57_0 ...\n",
      "installing: ca-certificates-2018.03.07-0 ...\n",
      "installing: conda-env-2.6.0-1 ...\n",
      "installing: libgcc-ng-8.2.0-hdf63c60_1 ...\n",
      "installing: libstdcxx-ng-8.2.0-hdf63c60_1 ...\n",
      "installing: libffi-3.2.1-hd88cf55_4 ...\n",
      "installing: ncurses-6.1-hf484d3e_0 ...\n",
      "installing: openssl-1.0.2p-h14c3975_0 ...\n",
      "installing: yaml-0.1.7-had09818_2 ...\n",
      "installing: zlib-1.2.11-ha838bed_2 ...\n",
      "installing: libedit-3.1.20170329-h6b74fdf_2 ...\n",
      "installing: readline-7.0-h7b6447c_5 ...\n",
      "installing: tk-8.6.8-hbc83047_0 ...\n",
      "installing: sqlite-3.24.0-h84994c4_0 ...\n",
      "installing: asn1crypto-0.24.0-py27_0 ...\n",
      "installing: certifi-2018.8.24-py27_1 ...\n",
      "installing: chardet-3.0.4-py27_1 ...\n",
      "installing: enum34-1.1.6-py27_1 ...\n",
      "installing: futures-3.2.0-py27_0 ...\n",
      "installing: idna-2.7-py27_0 ...\n",
      "installing: ipaddress-1.0.22-py27_0 ...\n",
      "installing: pycosat-0.6.3-py27h14c3975_0 ...\n",
      "installing: pycparser-2.18-py27_1 ...\n",
      "installing: pysocks-1.6.8-py27_0 ...\n",
      "installing: ruamel_yaml-0.15.46-py27h14c3975_0 ...\n",
      "installing: six-1.11.0-py27_1 ...\n",
      "installing: cffi-1.11.5-py27he75722e_1 ...\n",
      "installing: setuptools-40.2.0-py27_0 ...\n",
      "installing: cryptography-2.3.1-py27hc365091_0 ...\n",
      "installing: wheel-0.31.1-py27_0 ...\n",
      "installing: pip-10.0.1-py27_0 ...\n",
      "installing: pyopenssl-18.0.0-py27_0 ...\n",
      "installing: urllib3-1.23-py27_0 ...\n",
      "installing: requests-2.19.1-py27_0 ...\n",
      "installing: conda-4.5.11-py27_0 ...\n",
      "installation finished.\n"
     ]
    },
    {
     "name": "stderr",
     "output_type": "stream",
     "text": [
      "Python 2.7.15 :: Anaconda, Inc.\n"
     ]
    }
   ],
   "source": [
    "%%bash\n",
    "\n",
    "bash miniconda.sh -b -p $HOME/miniconda2"
   ]
  },
  {
   "cell_type": "markdown",
   "metadata": {},
   "source": [
    "Add path to `miniconda2` folder in your `PATH`, either by adding a line in your .bashrc file:"
   ]
  },
  {
   "cell_type": "code",
   "execution_count": 3,
   "metadata": {},
   "outputs": [],
   "source": [
    "%%bash\n",
    "\n",
    "echo export PATH=\\\"$HOME/miniconda2/bin:\\$PATH\\\" >> $HOME/.bashrc"
   ]
  },
  {
   "cell_type": "markdown",
   "metadata": {},
   "source": [
    "Cleanup"
   ]
  },
  {
   "cell_type": "code",
   "execution_count": 7,
   "metadata": {},
   "outputs": [],
   "source": [
    "%%bash\n",
    "\n",
    "rm -f miniconda.sh"
   ]
  },
  {
   "cell_type": "markdown",
   "metadata": {},
   "source": [
    "## Python dependencies"
   ]
  },
  {
   "cell_type": "markdown",
   "metadata": {},
   "source": [
    "With conda you can install most of the needed dependencies:"
   ]
  },
  {
   "cell_type": "code",
   "execution_count": null,
   "metadata": {},
   "outputs": [],
   "source": [
    "%%bash\n",
    "\n",
    "## required\n",
    "conda install -y -q scipy                                      # scientific computing in python\n",
    "conda install -y -q numpy                                      # scientific computing in python\n",
    "conda install -y -q matplotlib                                 # to plot\n",
    "conda install -y -q -c https://conda.anaconda.org/bcbio pysam  # to deal with SAM/BAM files\n",
    "conda install -y -q -c https://conda.anaconda.org/salilab imp  # for 3D modeling\n",
    "conda install -y -q -c bioconda mcl                            # for clustering\n",
    "conda install -y -q -c hargup/label/pypi pebble                # for multiprocessing in tadbit_model\n",
    "\n",
    "## optional\n",
    "conda install -y -q jupyter                                    # this notebook :)\n",
    "conda install -y -q -c bioconda sra-tools                      # to download raw data from released experiment"
   ]
  },
  {
   "cell_type": "markdown",
   "metadata": {},
   "source": [
    "## GEM Mapper"
   ]
  },
  {
   "cell_type": "markdown",
   "metadata": {},
   "source": [
    "In this course we will use GEM, but any other alternative is just fine.\n",
    "\n",
    "To install GEM, go to the download page: https://sourceforge.net/projects/gemlibrary/files/gem-library/Binary%20pre-release%202/\n",
    "and download the `i3` version (the other version is for older computers, and you usually won't have to use it)."
   ]
  },
  {
   "cell_type": "code",
   "execution_count": 1,
   "metadata": {},
   "outputs": [
    {
     "name": "stderr",
     "output_type": "stream",
     "text": [
      "2019-01-15 14:12:09 URL:https://netcologne.dl.sourceforge.net/project/gemlibrary/gem-library/Binary%20pre-release%203/GEM-binaries-Linux-x86_64-core_i3-20130406-045632.tbz2 [33847526/33847526] -> \"GEM.tbz2\" [1]\n"
     ]
    }
   ],
   "source": [
    "%%bash\n",
    "\n",
    "wget -nv -O GEM.tbz2 https://sourceforge.net/projects/gemlibrary/files/gem-library/Binary%20pre-release%203/GEM-binaries-Linux-x86_64-core_i3-20130406-045632.tbz2/download"
   ]
  },
  {
   "cell_type": "markdown",
   "metadata": {},
   "source": [
    "Uncompress the archive: "
   ]
  },
  {
   "cell_type": "code",
   "execution_count": 2,
   "metadata": {},
   "outputs": [
    {
     "name": "stdout",
     "output_type": "stream",
     "text": [
      "GEM-binaries-Linux-x86_64-core_i3-20130406-045632/bin/\n",
      "GEM-binaries-Linux-x86_64-core_i3-20130406-045632/bin/gem-indexer_bwt-dna\n",
      "GEM-binaries-Linux-x86_64-core_i3-20130406-045632/bin/transcriptome-2-genome\n",
      "GEM-binaries-Linux-x86_64-core_i3-20130406-045632/bin/gem-mappability\n",
      "GEM-binaries-Linux-x86_64-core_i3-20130406-045632/bin/gem-indexer\n",
      "GEM-binaries-Linux-x86_64-core_i3-20130406-045632/bin/gem-indexer_generate\n",
      "GEM-binaries-Linux-x86_64-core_i3-20130406-045632/bin/gem-mappability-retriever\n",
      "GEM-binaries-Linux-x86_64-core_i3-20130406-045632/bin/External/\n",
      "GEM-binaries-Linux-x86_64-core_i3-20130406-045632/bin/External/gemtools\n",
      "GEM-binaries-Linux-x86_64-core_i3-20130406-045632/bin/External/LICENSE\n",
      "GEM-binaries-Linux-x86_64-core_i3-20130406-045632/bin/gemtools\n",
      "GEM-binaries-Linux-x86_64-core_i3-20130406-045632/bin/gem-rna-mapper\n",
      "GEM-binaries-Linux-x86_64-core_i3-20130406-045632/bin/gem-retriever\n",
      "GEM-binaries-Linux-x86_64-core_i3-20130406-045632/bin/gem-2-sam\n",
      "GEM-binaries-Linux-x86_64-core_i3-20130406-045632/bin/gem-indexer_fasta2meta+cont\n",
      "GEM-binaries-Linux-x86_64-core_i3-20130406-045632/bin/gtf-2-junctions\n",
      "GEM-binaries-Linux-x86_64-core_i3-20130406-045632/bin/gem-2-wig\n",
      "GEM-binaries-Linux-x86_64-core_i3-20130406-045632/bin/gem-2-gem\n",
      "GEM-binaries-Linux-x86_64-core_i3-20130406-045632/bin/gem-info\n",
      "GEM-binaries-Linux-x86_64-core_i3-20130406-045632/bin/compute-transcriptome\n",
      "GEM-binaries-Linux-x86_64-core_i3-20130406-045632/bin/LICENSE\n",
      "GEM-binaries-Linux-x86_64-core_i3-20130406-045632/bin/splits-2-junctions\n",
      "GEM-binaries-Linux-x86_64-core_i3-20130406-045632/bin/gem-mapper\n",
      "GEM-binaries-Linux-x86_64-core_i3-20130406-045632/man/\n",
      "GEM-binaries-Linux-x86_64-core_i3-20130406-045632/man/gem-indexer.man\n",
      "GEM-binaries-Linux-x86_64-core_i3-20130406-045632/man/gem-mapper.man\n",
      "GEM-binaries-Linux-x86_64-core_i3-20130406-045632/man/gem-2-sam.man\n",
      "GEM-binaries-Linux-x86_64-core_i3-20130406-045632/man/gem-2-gem.man\n",
      "GEM-binaries-Linux-x86_64-core_i3-20130406-045632/man/gem-mappability.man\n"
     ]
    }
   ],
   "source": [
    "%%bash\n",
    "\n",
    "tar -xjvf GEM.tbz2"
   ]
  },
  {
   "cell_type": "markdown",
   "metadata": {},
   "source": [
    "And copy the needed binaries to somewhere in your PATH, like:"
   ]
  },
  {
   "cell_type": "code",
   "execution_count": 4,
   "metadata": {},
   "outputs": [],
   "source": [
    "%%bash\n",
    "\n",
    "rm -f GEM-binaries-Linux-x86_64-core_i3-20130406-045632/bin/LICENCE"
   ]
  },
  {
   "cell_type": "code",
   "execution_count": 8,
   "metadata": {},
   "outputs": [],
   "source": [
    "%%bash\n",
    "\n",
    "cp GEM-binaries-Linux-x86_64-core_i3-20130406-045632/bin/* ~/miniconda2/bin/"
   ]
  },
  {
   "cell_type": "markdown",
   "metadata": {},
   "source": [
    "Cleanup"
   ]
  },
  {
   "cell_type": "code",
   "execution_count": 7,
   "metadata": {},
   "outputs": [],
   "source": [
    "%%bash\n",
    "\n",
    "rm -rf GEM-binaries-Linux-x86_64-core_i3-20121106-022124\n",
    "rm -f GEM.tbz2"
   ]
  },
  {
   "cell_type": "markdown",
   "metadata": {},
   "source": [
    "## DryHiC for oneD normalization"
   ]
  },
  {
   "cell_type": "markdown",
   "metadata": {},
   "source": [
    "Install dryhic from: https://github.com/qenvio/dryhic"
   ]
  },
  {
   "cell_type": "markdown",
   "metadata": {},
   "source": [
    "From an R console type:"
   ]
  },
  {
   "cell_type": "markdown",
   "metadata": {},
   "source": [
    "```\n",
    "install.packages(\"devtools\")\n",
    "\n",
    "devtools::install_github(\"qenvio/dryhic\")\n",
    "```"
   ]
  },
  {
   "cell_type": "markdown",
   "metadata": {},
   "source": [
    "__Or__ execute this cell:"
   ]
  },
  {
   "cell_type": "code",
   "execution_count": 13,
   "metadata": {},
   "outputs": [
    {
     "name": "stdout",
     "output_type": "stream",
     "text": [
      "\n",
      "R version 3.4.2 (2017-09-28) -- \"Short Summer\"\n",
      "Copyright (C) 2017 The R Foundation for Statistical Computing\n",
      "Platform: x86_64-pc-linux-gnu (64-bit)\n",
      "\n",
      "R is free software and comes with ABSOLUTELY NO WARRANTY.\n",
      "You are welcome to redistribute it under certain conditions.\n",
      "Type 'license()' or 'licence()' for distribution details.\n",
      "\n",
      "  Natural language support but running in an English locale\n",
      "\n",
      "R is a collaborative project with many contributors.\n",
      "Type 'contributors()' for more information and\n",
      "'citation()' on how to cite R or R packages in publications.\n",
      "\n",
      "Type 'demo()' for some demos, 'help()' for on-line help, or\n",
      "'help.start()' for an HTML browser interface to help.\n",
      "Type 'q()' to quit R.\n",
      "\n",
      "> install.packages(\"devtools\", repos=\"http://cran.us.r-project.org\"); devtools::install_github(\"qenvio/dryhic\", force=TRUE)\n",
      "gfortran   -fpic  -g -O2 -fstack-protector-strong  -c fwdb.f -o fwdb.o\n",
      "gfortran   -fpic  -g -O2 -fstack-protector-strong  -c viterbi.f -o viterbi.o\n",
      "gcc -std=gnu99 -shared -L/usr/lib/R/lib -Wl,-Bsymbolic-functions -Wl,-z,relro -o dryhic.so fwdb.o viterbi.o -lgfortran -lm -lquadmath -L/usr/lib/R/lib -lR\n",
      "> \n",
      "> \n"
     ]
    },
    {
     "name": "stderr",
     "output_type": "stream",
     "text": [
      "Installing package into ‘/home/fransua/R/x86_64-pc-linux-gnu-library/3.4’\n",
      "(as ‘lib’ is unspecified)\n",
      "trying URL 'http://cran.us.r-project.org/src/contrib/devtools_1.13.6.tar.gz'\n",
      "Content type 'application/x-gzip' length 486446 bytes (475 KB)\n",
      "==================================================\n",
      "downloaded 475 KB\n",
      "\n",
      "* installing *source* package ‘devtools’ ...\n",
      "** package ‘devtools’ successfully unpacked and MD5 sums checked\n",
      "** R\n",
      "** inst\n",
      "** preparing package for lazy loading\n",
      "** help\n",
      "*** installing help indices\n",
      "** building package indices\n",
      "** installing vignettes\n",
      "** testing if installed package can be loaded\n",
      "* DONE (devtools)\n",
      "\n",
      "The downloaded source packages are in\n",
      "\t‘/tmp/Rtmp1j1AUG/downloaded_packages’\n",
      "Downloading GitHub repo qenvio/dryhic@master\n",
      "from URL https://api.github.com/repos/qenvio/dryhic/zipball/master\n",
      "Installing dryhic\n",
      "'/usr/lib/R/bin/R' --no-site-file --no-environ --no-save --no-restore --quiet  \\\n",
      "  CMD INSTALL '/tmp/Rtmp1j1AUG/devtools6acf4c30139e/qenvio-dryhic-764e0f0'  \\\n",
      "  --library='/home/fransua/R/x86_64-pc-linux-gnu-library/3.4' --install-tests \n",
      "\n",
      "* installing *source* package ‘dryhic’ ...\n",
      "** libs\n",
      "installing to /home/fransua/R/x86_64-pc-linux-gnu-library/3.4/dryhic/libs\n",
      "** R\n",
      "** inst\n",
      "** preparing package for lazy loading\n",
      "** help\n",
      "*** installing help indices\n",
      "** building package indices\n",
      "** testing if installed package can be loaded\n",
      "* DONE (dryhic)\n"
     ]
    }
   ],
   "source": [
    "%%bash\n",
    "\n",
    "R -e '\n",
    "install.packages(\"devtools\", repos=\"http://cran.us.r-project.org\"); devtools::install_github(\"qenvio/dryhic\")'"
   ]
  },
  {
   "cell_type": "markdown",
   "metadata": {},
   "source": [
    "## DSRC FASTQ compressor"
   ]
  },
  {
   "cell_type": "markdown",
   "metadata": {},
   "source": [
    "DSRC is a FASTQ compressor, it's not needed, but we use it as the size of the files is significantly smaller than using gunzip (>30%), and, more importantly, the access to them can be parallelized, and is much faster than any other alternative.\n",
    "\n",
    "It can be downloaded from https://github.com/lrog/dsrc"
   ]
  },
  {
   "cell_type": "code",
   "execution_count": 9,
   "metadata": {},
   "outputs": [
    {
     "name": "stderr",
     "output_type": "stream",
     "text": [
      "2018-09-28 00:46:48 URL:http://sun.aei.polsl.pl/dsrc/download/2.0rc/dsrc [1761768/1761768] -> \"dsrc\" [1]\n"
     ]
    }
   ],
   "source": [
    "%%bash\n",
    "\n",
    "wget -nv http://sun.aei.polsl.pl/dsrc/download/2.0rc/dsrc"
   ]
  },
  {
   "cell_type": "code",
   "execution_count": 10,
   "metadata": {},
   "outputs": [],
   "source": [
    "%%bash\n",
    "\n",
    "chmod +x dsrc"
   ]
  },
  {
   "cell_type": "markdown",
   "metadata": {},
   "source": [
    "And copy to `miniconda/bin`"
   ]
  },
  {
   "cell_type": "code",
   "execution_count": 11,
   "metadata": {},
   "outputs": [],
   "source": [
    "%%bash\n",
    "\n",
    "mv dsrc ~/miniconda2/bin/"
   ]
  },
  {
   "cell_type": "markdown",
   "metadata": {},
   "source": [
    "## TADbit"
   ]
  },
  {
   "cell_type": "markdown",
   "metadata": {},
   "source": [
    "For now TADbit is not available through conda or pip package manager, so to install it we will have to clone the repository:"
   ]
  },
  {
   "cell_type": "code",
   "execution_count": 13,
   "metadata": {},
   "outputs": [
    {
     "name": "stdout",
     "output_type": "stream",
     "text": [
      "Checking dependencies...\n",
      "\n",
      "\n",
      "FOUND changes:\n",
      "diff --git a/README.rst b/README.rst\n",
      "index 122fe11..2550211 100644\n",
      "--- a/README.rst\n",
      "+++ b/README.rst\n",
      "@@ -5,7 +5,7 @@\n",
      " \n",
      " +-------------------------------------+---------------------------------------------------------------------------+---------------------------------------------------------------------------------------------+---------------------------------------------------------------+\n",
      " |                                     | .. image:: https://travis-ci.org/3DGenomes/TADbit.png?branch=master       | .. image:: https://coveralls.io/repos/github/3DGenomes/TADbit/badge.svg?branch=master       | .. image:: https://img.shields.io/badge/license-GPL-green.svg |\n",
      "-| Current version: v0.2.0.529         |   :target: https://travis-ci.org/3DGenomes/TADbit                         |   :target: https://coveralls.io/github/3DGenomes/TADbit?branch=master                       |                                                               |\n",
      "+| Current version: 3DAROC_2018.58     |   :target: https://travis-ci.org/3DGenomes/TADbit                         |   :target: https://coveralls.io/github/3DGenomes/TADbit?branch=master                       |                                                               |\n",
      " |                                     |                                                                           |                                                                                             |                                                               |\n",
      " +-------------------------------------+---------------------------------------------------------------------------+---------------------------------------------------------------------------------------------+---------------------------------------------------------------+\n",
      " \n",
      "diff --git a/_pytadbit/_version.py b/_pytadbit/_version.py\n",
      "index 48cb0f5..b67844d 100644\n",
      "--- a/_pytadbit/_version.py\n",
      "+++ b/_pytadbit/_version.py\n",
      "@@ -1 +1 @@\n",
      "-__version__ = \"v0.2.0.529\"\n",
      "\\ No newline at end of file\n",
      "+__version__ = \"3DAROC_2018.58\"\n",
      "\\ No newline at end of file\n",
      ".\n",
      "running install\n",
      "running build\n",
      "running build_py\n",
      "copying /mnt/gordito/data/Shared/Projects/MethodsMolBiol_Marco/MethodsMolBiol/Notebooks/TADbit/_pytadbit/_version.py -> build/lib.linux-x86_64-2.7/pytadbit\n",
      "running build_ext\n",
      "running build_scripts\n",
      "running install_lib\n",
      "creating /home/fransua/.miniconda2/envs/tutorial/lib/python2.7/site-packages/pytadbit\n",
      "copying build/lib.linux-x86_64-2.7/pytadbit/__init__.py -> /home/fransua/.miniconda2/envs/tutorial/lib/python2.7/site-packages/pytadbit\n",
      "copying build/lib.linux-x86_64-2.7/pytadbit/alignment.py -> /home/fransua/.miniconda2/envs/tutorial/lib/python2.7/site-packages/pytadbit\n",
      "copying build/lib.linux-x86_64-2.7/pytadbit/chromosome.py -> /home/fransua/.miniconda2/envs/tutorial/lib/python2.7/site-packages/pytadbit\n",
      "copying build/lib.linux-x86_64-2.7/pytadbit/experiment.py -> /home/fransua/.miniconda2/envs/tutorial/lib/python2.7/site-packages/pytadbit\n",
      "copying build/lib.linux-x86_64-2.7/pytadbit/hic_data.py -> /home/fransua/.miniconda2/envs/tutorial/lib/python2.7/site-packages/pytadbit\n",
      "copying build/lib.linux-x86_64-2.7/pytadbit/tadbit.py -> /home/fransua/.miniconda2/envs/tutorial/lib/python2.7/site-packages/pytadbit\n",
      "creating /home/fransua/.miniconda2/envs/tutorial/lib/python2.7/site-packages/pytadbit/parsers\n",
      "copying build/lib.linux-x86_64-2.7/pytadbit/parsers/__init__.py -> /home/fransua/.miniconda2/envs/tutorial/lib/python2.7/site-packages/pytadbit/parsers\n",
      "copying build/lib.linux-x86_64-2.7/pytadbit/parsers/bed_parser.py -> /home/fransua/.miniconda2/envs/tutorial/lib/python2.7/site-packages/pytadbit/parsers\n",
      "copying build/lib.linux-x86_64-2.7/pytadbit/parsers/genome_parser.py -> /home/fransua/.miniconda2/envs/tutorial/lib/python2.7/site-packages/pytadbit/parsers\n",
      "copying build/lib.linux-x86_64-2.7/pytadbit/parsers/gzopen.py -> /home/fransua/.miniconda2/envs/tutorial/lib/python2.7/site-packages/pytadbit/parsers\n",
      "copying build/lib.linux-x86_64-2.7/pytadbit/parsers/hic_bam_parser.py -> /home/fransua/.miniconda2/envs/tutorial/lib/python2.7/site-packages/pytadbit/parsers\n",
      "copying build/lib.linux-x86_64-2.7/pytadbit/parsers/hic_parser.py -> /home/fransua/.miniconda2/envs/tutorial/lib/python2.7/site-packages/pytadbit/parsers\n",
      "copying build/lib.linux-x86_64-2.7/pytadbit/parsers/map_parser.py -> /home/fransua/.miniconda2/envs/tutorial/lib/python2.7/site-packages/pytadbit/parsers\n",
      "copying build/lib.linux-x86_64-2.7/pytadbit/parsers/sam_parser.py -> /home/fransua/.miniconda2/envs/tutorial/lib/python2.7/site-packages/pytadbit/parsers\n",
      "copying build/lib.linux-x86_64-2.7/pytadbit/parsers/tad_parser.py -> /home/fransua/.miniconda2/envs/tutorial/lib/python2.7/site-packages/pytadbit/parsers\n",
      "creating /home/fransua/.miniconda2/envs/tutorial/lib/python2.7/site-packages/pytadbit/tools\n",
      "copying build/lib.linux-x86_64-2.7/pytadbit/tools/__init__.py -> /home/fransua/.miniconda2/envs/tutorial/lib/python2.7/site-packages/pytadbit/tools\n",
      "copying build/lib.linux-x86_64-2.7/pytadbit/tools/tadbit_bin.py -> /home/fransua/.miniconda2/envs/tutorial/lib/python2.7/site-packages/pytadbit/tools\n",
      "copying build/lib.linux-x86_64-2.7/pytadbit/tools/tadbit_clean.py -> /home/fransua/.miniconda2/envs/tutorial/lib/python2.7/site-packages/pytadbit/tools\n",
      "copying build/lib.linux-x86_64-2.7/pytadbit/tools/tadbit_describe.py -> /home/fransua/.miniconda2/envs/tutorial/lib/python2.7/site-packages/pytadbit/tools\n",
      "copying build/lib.linux-x86_64-2.7/pytadbit/tools/tadbit_filter.py -> /home/fransua/.miniconda2/envs/tutorial/lib/python2.7/site-packages/pytadbit/tools\n",
      "copying build/lib.linux-x86_64-2.7/pytadbit/tools/tadbit_map.py -> /home/fransua/.miniconda2/envs/tutorial/lib/python2.7/site-packages/pytadbit/tools\n",
      "copying build/lib.linux-x86_64-2.7/pytadbit/tools/tadbit_merge.py -> /home/fransua/.miniconda2/envs/tutorial/lib/python2.7/site-packages/pytadbit/tools\n",
      "copying build/lib.linux-x86_64-2.7/pytadbit/tools/tadbit_model.py -> /home/fransua/.miniconda2/envs/tutorial/lib/python2.7/site-packages/pytadbit/tools\n",
      "copying build/lib.linux-x86_64-2.7/pytadbit/tools/tadbit_normalize.py -> /home/fransua/.miniconda2/envs/tutorial/lib/python2.7/site-packages/pytadbit/tools\n",
      "copying build/lib.linux-x86_64-2.7/pytadbit/tools/tadbit_parse.py -> /home/fransua/.miniconda2/envs/tutorial/lib/python2.7/site-packages/pytadbit/tools\n",
      "copying build/lib.linux-x86_64-2.7/pytadbit/tools/tadbit_segment.py -> /home/fransua/.miniconda2/envs/tutorial/lib/python2.7/site-packages/pytadbit/tools\n",
      "creating /home/fransua/.miniconda2/envs/tutorial/lib/python2.7/site-packages/pytadbit/boundary_aligner\n",
      "copying build/lib.linux-x86_64-2.7/pytadbit/boundary_aligner/__init__.py -> /home/fransua/.miniconda2/envs/tutorial/lib/python2.7/site-packages/pytadbit/boundary_aligner\n",
      "copying build/lib.linux-x86_64-2.7/pytadbit/boundary_aligner/aligner.py -> /home/fransua/.miniconda2/envs/tutorial/lib/python2.7/site-packages/pytadbit/boundary_aligner\n",
      "copying build/lib.linux-x86_64-2.7/pytadbit/boundary_aligner/globally.py -> /home/fransua/.miniconda2/envs/tutorial/lib/python2.7/site-packages/pytadbit/boundary_aligner\n",
      "copying build/lib.linux-x86_64-2.7/pytadbit/boundary_aligner/locally.py -> /home/fransua/.miniconda2/envs/tutorial/lib/python2.7/site-packages/pytadbit/boundary_aligner\n",
      "copying build/lib.linux-x86_64-2.7/pytadbit/boundary_aligner/reciprocally.py -> /home/fransua/.miniconda2/envs/tutorial/lib/python2.7/site-packages/pytadbit/boundary_aligner\n",
      "creating /home/fransua/.miniconda2/envs/tutorial/lib/python2.7/site-packages/pytadbit/utils\n",
      "copying build/lib.linux-x86_64-2.7/pytadbit/utils/__init__.py -> /home/fransua/.miniconda2/envs/tutorial/lib/python2.7/site-packages/pytadbit/utils\n",
      "copying build/lib.linux-x86_64-2.7/pytadbit/utils/ascii_plots.py -> /home/fransua/.miniconda2/envs/tutorial/lib/python2.7/site-packages/pytadbit/utils\n",
      "copying build/lib.linux-x86_64-2.7/pytadbit/utils/extraviews.py -> /home/fransua/.miniconda2/envs/tutorial/lib/python2.7/site-packages/pytadbit/utils\n",
      "copying build/lib.linux-x86_64-2.7/pytadbit/utils/fastq_utils.py -> /home/fransua/.miniconda2/envs/tutorial/lib/python2.7/site-packages/pytadbit/utils\n",
      "copying build/lib.linux-x86_64-2.7/pytadbit/utils/file_handling.py -> /home/fransua/.miniconda2/envs/tutorial/lib/python2.7/site-packages/pytadbit/utils\n",
      "copying build/lib.linux-x86_64-2.7/pytadbit/utils/hic_filtering.py -> /home/fransua/.miniconda2/envs/tutorial/lib/python2.7/site-packages/pytadbit/utils\n",
      "copying build/lib.linux-x86_64-2.7/pytadbit/utils/hmm.py -> /home/fransua/.miniconda2/envs/tutorial/lib/python2.7/site-packages/pytadbit/utils\n",
      "copying build/lib.linux-x86_64-2.7/pytadbit/utils/normalize_hic.py -> /home/fransua/.miniconda2/envs/tutorial/lib/python2.7/site-packages/pytadbit/utils\n",
      "copying build/lib.linux-x86_64-2.7/pytadbit/utils/remap_tads.py -> /home/fransua/.miniconda2/envs/tutorial/lib/python2.7/site-packages/pytadbit/utils\n",
      "copying build/lib.linux-x86_64-2.7/pytadbit/utils/remap_tads_ensembl.py -> /home/fransua/.miniconda2/envs/tutorial/lib/python2.7/site-packages/pytadbit/utils\n",
      "copying build/lib.linux-x86_64-2.7/pytadbit/utils/remap_tads_maf_alignment.py -> /home/fransua/.miniconda2/envs/tutorial/lib/python2.7/site-packages/pytadbit/utils\n",
      "copying build/lib.linux-x86_64-2.7/pytadbit/utils/sqlite_utils.py -> /home/fransua/.miniconda2/envs/tutorial/lib/python2.7/site-packages/pytadbit/utils\n",
      "copying build/lib.linux-x86_64-2.7/pytadbit/utils/tadmaths.py -> /home/fransua/.miniconda2/envs/tutorial/lib/python2.7/site-packages/pytadbit/utils\n",
      "copying build/lib.linux-x86_64-2.7/pytadbit/utils/three_dim_stats.py -> /home/fransua/.miniconda2/envs/tutorial/lib/python2.7/site-packages/pytadbit/utils\n",
      "creating /home/fransua/.miniconda2/envs/tutorial/lib/python2.7/site-packages/pytadbit/tad_clustering\n",
      "copying build/lib.linux-x86_64-2.7/pytadbit/tad_clustering/__init__.py -> /home/fransua/.miniconda2/envs/tutorial/lib/python2.7/site-packages/pytadbit/tad_clustering\n",
      "copying build/lib.linux-x86_64-2.7/pytadbit/tad_clustering/tad_cmo.py -> /home/fransua/.miniconda2/envs/tutorial/lib/python2.7/site-packages/pytadbit/tad_clustering\n",
      "creating /home/fransua/.miniconda2/envs/tutorial/lib/python2.7/site-packages/pytadbit/modelling\n",
      "copying build/lib.linux-x86_64-2.7/pytadbit/modelling/IMP_CONFIG.py -> /home/fransua/.miniconda2/envs/tutorial/lib/python2.7/site-packages/pytadbit/modelling\n",
      "copying build/lib.linux-x86_64-2.7/pytadbit/modelling/LAMMPS_CONFIG.py -> /home/fransua/.miniconda2/envs/tutorial/lib/python2.7/site-packages/pytadbit/modelling\n",
      "copying build/lib.linux-x86_64-2.7/pytadbit/modelling/__init__.py -> /home/fransua/.miniconda2/envs/tutorial/lib/python2.7/site-packages/pytadbit/modelling\n",
      "copying build/lib.linux-x86_64-2.7/pytadbit/modelling/imp_modelling.py -> /home/fransua/.miniconda2/envs/tutorial/lib/python2.7/site-packages/pytadbit/modelling\n",
      "copying build/lib.linux-x86_64-2.7/pytadbit/modelling/impmodel.py -> /home/fransua/.miniconda2/envs/tutorial/lib/python2.7/site-packages/pytadbit/modelling\n",
      "copying build/lib.linux-x86_64-2.7/pytadbit/modelling/impoptimizer.py -> /home/fransua/.miniconda2/envs/tutorial/lib/python2.7/site-packages/pytadbit/modelling\n",
      "copying build/lib.linux-x86_64-2.7/pytadbit/modelling/lammps_modelling.py -> /home/fransua/.miniconda2/envs/tutorial/lib/python2.7/site-packages/pytadbit/modelling\n",
      "copying build/lib.linux-x86_64-2.7/pytadbit/modelling/lammpsmodel.py -> /home/fransua/.miniconda2/envs/tutorial/lib/python2.7/site-packages/pytadbit/modelling\n",
      "copying build/lib.linux-x86_64-2.7/pytadbit/modelling/restraints.py -> /home/fransua/.miniconda2/envs/tutorial/lib/python2.7/site-packages/pytadbit/modelling\n",
      "copying build/lib.linux-x86_64-2.7/pytadbit/modelling/structuralmodel.py -> /home/fransua/.miniconda2/envs/tutorial/lib/python2.7/site-packages/pytadbit/modelling\n",
      "copying build/lib.linux-x86_64-2.7/pytadbit/modelling/structuralmodels.py -> /home/fransua/.miniconda2/envs/tutorial/lib/python2.7/site-packages/pytadbit/modelling\n",
      "creating /home/fransua/.miniconda2/envs/tutorial/lib/python2.7/site-packages/pytadbit/mapping\n",
      "copying build/lib.linux-x86_64-2.7/pytadbit/mapping/__init__.py -> /home/fransua/.miniconda2/envs/tutorial/lib/python2.7/site-packages/pytadbit/mapping\n",
      "copying build/lib.linux-x86_64-2.7/pytadbit/mapping/analyze.py -> /home/fransua/.miniconda2/envs/tutorial/lib/python2.7/site-packages/pytadbit/mapping\n",
      "copying build/lib.linux-x86_64-2.7/pytadbit/mapping/filter.py -> /home/fransua/.miniconda2/envs/tutorial/lib/python2.7/site-packages/pytadbit/mapping\n",
      "copying build/lib.linux-x86_64-2.7/pytadbit/mapping/full_mapper.py -> /home/fransua/.miniconda2/envs/tutorial/lib/python2.7/site-packages/pytadbit/mapping\n",
      "copying build/lib.linux-x86_64-2.7/pytadbit/mapping/mapper.py -> /home/fransua/.miniconda2/envs/tutorial/lib/python2.7/site-packages/pytadbit/mapping\n",
      "copying build/lib.linux-x86_64-2.7/pytadbit/mapping/restriction_enzymes.py -> /home/fransua/.miniconda2/envs/tutorial/lib/python2.7/site-packages/pytadbit/mapping\n",
      "copying build/lib.linux-x86_64-2.7/pytadbit/tadbit_py.so -> /home/fransua/.miniconda2/envs/tutorial/lib/python2.7/site-packages/pytadbit\n",
      "copying build/lib.linux-x86_64-2.7/pytadbit/tadbitalone_py.so -> /home/fransua/.miniconda2/envs/tutorial/lib/python2.7/site-packages/pytadbit\n",
      "copying build/lib.linux-x86_64-2.7/pytadbit/eqv_rms_drms.so -> /home/fransua/.miniconda2/envs/tutorial/lib/python2.7/site-packages/pytadbit\n",
      "copying build/lib.linux-x86_64-2.7/pytadbit/centroid.so -> /home/fransua/.miniconda2/envs/tutorial/lib/python2.7/site-packages/pytadbit\n",
      "copying build/lib.linux-x86_64-2.7/pytadbit/consistency.so -> /home/fransua/.miniconda2/envs/tutorial/lib/python2.7/site-packages/pytadbit\n",
      "copying build/lib.linux-x86_64-2.7/pytadbit/aligner3d.so -> /home/fransua/.miniconda2/envs/tutorial/lib/python2.7/site-packages/pytadbit\n",
      "copying build/lib.linux-x86_64-2.7/pytadbit/squared_distance_matrix.so -> /home/fransua/.miniconda2/envs/tutorial/lib/python2.7/site-packages/pytadbit\n",
      "copying build/lib.linux-x86_64-2.7/pytadbit/_version.py -> /home/fransua/.miniconda2/envs/tutorial/lib/python2.7/site-packages/pytadbit\n",
      "byte-compiling /home/fransua/.miniconda2/envs/tutorial/lib/python2.7/site-packages/pytadbit/__init__.py to __init__.pyc\n",
      "byte-compiling /home/fransua/.miniconda2/envs/tutorial/lib/python2.7/site-packages/pytadbit/alignment.py to alignment.pyc\n",
      "byte-compiling /home/fransua/.miniconda2/envs/tutorial/lib/python2.7/site-packages/pytadbit/chromosome.py to chromosome.pyc\n",
      "byte-compiling /home/fransua/.miniconda2/envs/tutorial/lib/python2.7/site-packages/pytadbit/experiment.py to experiment.pyc\n",
      "byte-compiling /home/fransua/.miniconda2/envs/tutorial/lib/python2.7/site-packages/pytadbit/hic_data.py to hic_data.pyc\n",
      "byte-compiling /home/fransua/.miniconda2/envs/tutorial/lib/python2.7/site-packages/pytadbit/tadbit.py to tadbit.pyc\n",
      "byte-compiling /home/fransua/.miniconda2/envs/tutorial/lib/python2.7/site-packages/pytadbit/parsers/__init__.py to __init__.pyc\n",
      "byte-compiling /home/fransua/.miniconda2/envs/tutorial/lib/python2.7/site-packages/pytadbit/parsers/bed_parser.py to bed_parser.pyc\n",
      "byte-compiling /home/fransua/.miniconda2/envs/tutorial/lib/python2.7/site-packages/pytadbit/parsers/genome_parser.py to genome_parser.pyc\n",
      "byte-compiling /home/fransua/.miniconda2/envs/tutorial/lib/python2.7/site-packages/pytadbit/parsers/gzopen.py to gzopen.pyc\n",
      "byte-compiling /home/fransua/.miniconda2/envs/tutorial/lib/python2.7/site-packages/pytadbit/parsers/hic_bam_parser.py to hic_bam_parser.pyc\n",
      "byte-compiling /home/fransua/.miniconda2/envs/tutorial/lib/python2.7/site-packages/pytadbit/parsers/hic_parser.py to hic_parser.pyc\n",
      "byte-compiling /home/fransua/.miniconda2/envs/tutorial/lib/python2.7/site-packages/pytadbit/parsers/map_parser.py to map_parser.pyc\n",
      "byte-compiling /home/fransua/.miniconda2/envs/tutorial/lib/python2.7/site-packages/pytadbit/parsers/sam_parser.py to sam_parser.pyc\n",
      "byte-compiling /home/fransua/.miniconda2/envs/tutorial/lib/python2.7/site-packages/pytadbit/parsers/tad_parser.py to tad_parser.pyc\n",
      "byte-compiling /home/fransua/.miniconda2/envs/tutorial/lib/python2.7/site-packages/pytadbit/tools/__init__.py to __init__.pyc\n",
      "byte-compiling /home/fransua/.miniconda2/envs/tutorial/lib/python2.7/site-packages/pytadbit/tools/tadbit_bin.py to tadbit_bin.pyc\n",
      "byte-compiling /home/fransua/.miniconda2/envs/tutorial/lib/python2.7/site-packages/pytadbit/tools/tadbit_clean.py to tadbit_clean.pyc\n",
      "byte-compiling /home/fransua/.miniconda2/envs/tutorial/lib/python2.7/site-packages/pytadbit/tools/tadbit_describe.py to tadbit_describe.pyc\n",
      "byte-compiling /home/fransua/.miniconda2/envs/tutorial/lib/python2.7/site-packages/pytadbit/tools/tadbit_filter.py to tadbit_filter.pyc\n",
      "byte-compiling /home/fransua/.miniconda2/envs/tutorial/lib/python2.7/site-packages/pytadbit/tools/tadbit_map.py to tadbit_map.pyc\n",
      "byte-compiling /home/fransua/.miniconda2/envs/tutorial/lib/python2.7/site-packages/pytadbit/tools/tadbit_merge.py to tadbit_merge.pyc\n",
      "byte-compiling /home/fransua/.miniconda2/envs/tutorial/lib/python2.7/site-packages/pytadbit/tools/tadbit_model.py to tadbit_model.pyc\n",
      "byte-compiling /home/fransua/.miniconda2/envs/tutorial/lib/python2.7/site-packages/pytadbit/tools/tadbit_normalize.py to tadbit_normalize.pyc\n",
      "byte-compiling /home/fransua/.miniconda2/envs/tutorial/lib/python2.7/site-packages/pytadbit/tools/tadbit_parse.py to tadbit_parse.pyc\n",
      "byte-compiling /home/fransua/.miniconda2/envs/tutorial/lib/python2.7/site-packages/pytadbit/tools/tadbit_segment.py to tadbit_segment.pyc\n",
      "byte-compiling /home/fransua/.miniconda2/envs/tutorial/lib/python2.7/site-packages/pytadbit/boundary_aligner/__init__.py to __init__.pyc\n",
      "byte-compiling /home/fransua/.miniconda2/envs/tutorial/lib/python2.7/site-packages/pytadbit/boundary_aligner/aligner.py to aligner.pyc\n",
      "byte-compiling /home/fransua/.miniconda2/envs/tutorial/lib/python2.7/site-packages/pytadbit/boundary_aligner/globally.py to globally.pyc\n",
      "byte-compiling /home/fransua/.miniconda2/envs/tutorial/lib/python2.7/site-packages/pytadbit/boundary_aligner/locally.py to locally.pyc\n",
      "byte-compiling /home/fransua/.miniconda2/envs/tutorial/lib/python2.7/site-packages/pytadbit/boundary_aligner/reciprocally.py to reciprocally.pyc\n",
      "byte-compiling /home/fransua/.miniconda2/envs/tutorial/lib/python2.7/site-packages/pytadbit/utils/__init__.py to __init__.pyc\n",
      "byte-compiling /home/fransua/.miniconda2/envs/tutorial/lib/python2.7/site-packages/pytadbit/utils/ascii_plots.py to ascii_plots.pyc\n",
      "byte-compiling /home/fransua/.miniconda2/envs/tutorial/lib/python2.7/site-packages/pytadbit/utils/extraviews.py to extraviews.pyc\n",
      "byte-compiling /home/fransua/.miniconda2/envs/tutorial/lib/python2.7/site-packages/pytadbit/utils/fastq_utils.py to fastq_utils.pyc\n",
      "byte-compiling /home/fransua/.miniconda2/envs/tutorial/lib/python2.7/site-packages/pytadbit/utils/file_handling.py to file_handling.pyc\n",
      "byte-compiling /home/fransua/.miniconda2/envs/tutorial/lib/python2.7/site-packages/pytadbit/utils/hic_filtering.py to hic_filtering.pyc\n",
      "byte-compiling /home/fransua/.miniconda2/envs/tutorial/lib/python2.7/site-packages/pytadbit/utils/hmm.py to hmm.pyc\n",
      "byte-compiling /home/fransua/.miniconda2/envs/tutorial/lib/python2.7/site-packages/pytadbit/utils/normalize_hic.py to normalize_hic.pyc\n",
      "byte-compiling /home/fransua/.miniconda2/envs/tutorial/lib/python2.7/site-packages/pytadbit/utils/remap_tads.py to remap_tads.pyc\n",
      "byte-compiling /home/fransua/.miniconda2/envs/tutorial/lib/python2.7/site-packages/pytadbit/utils/remap_tads_ensembl.py to remap_tads_ensembl.pyc\n",
      "byte-compiling /home/fransua/.miniconda2/envs/tutorial/lib/python2.7/site-packages/pytadbit/utils/remap_tads_maf_alignment.py to remap_tads_maf_alignment.pyc\n",
      "byte-compiling /home/fransua/.miniconda2/envs/tutorial/lib/python2.7/site-packages/pytadbit/utils/sqlite_utils.py to sqlite_utils.pyc\n",
      "byte-compiling /home/fransua/.miniconda2/envs/tutorial/lib/python2.7/site-packages/pytadbit/utils/tadmaths.py to tadmaths.pyc\n",
      "byte-compiling /home/fransua/.miniconda2/envs/tutorial/lib/python2.7/site-packa"
     ]
    },
    {
     "data": {
      "text/html": [
       "<b>limit_output extension: Maximum message size of 20000 exceeded with 23608 characters</b>"
      ]
     },
     "metadata": {},
     "output_type": "display_data"
    }
   ],
   "source": [
    "%%bash\n",
    "\n",
    "git clone git@github.com:3DGenomes/TADbit.git\n",
    "cd TADbit\n",
    "python setup.py install"
   ]
  },
  {
   "cell_type": "code",
   "execution_count": 15,
   "metadata": {},
   "outputs": [
    {
     "name": "stdout",
     "output_type": "stream",
     "text": [
      "PYTHON SIDE\n",
      "-----------\n",
      "rm -f testset *.o *.gcda *.gcno *.gcov gmon.out analysis.txt \\\n",
      "\tcallgrind.out.* cache.txt\n",
      "gcc -I.. `pkg-config --cflags glib-2.0` -g -pg -Wall -std=gnu99 -O0 -fstrict-aliasing -fprofile-arcs -ftest-coverage   -c -o tadbit.o ../tadbit.c\n",
      "gcc -I.. `pkg-config --cflags glib-2.0` -g -pg -Wall -std=gnu99 -O0 -fstrict-aliasing -fprofile-arcs -ftest-coverage    testset.c tadbit.o  `pkg-config --libs glib-2.0` -lpthread -lm -o testset\n",
      "gtester --verbose --keep-going testset\n",
      "TEST: testset... (pid=12806)\n",
      "  /ll:                                                                 OK\n",
      "  /enforce_symmetry:                                                   OK\n",
      "  /tadbit:                                                             OK\n",
      "lilmatlilmatlilmatlilmatPASS: testset\n",
      "\n",
      "\n",
      "C SIDE\n",
      "------\n"
     ]
    },
    {
     "name": "stderr",
     "output_type": "stream",
     "text": [
      "....................\n",
      "----------------------------------------------------------------------\n",
      "Ran 20 tests in 92.073s\n",
      "\n",
      "OK\n"
     ]
    }
   ],
   "source": [
    "%%bash\n",
    "\n",
    "cd TADbit/test\n",
    "python test_all.py"
   ]
  }
 ],
 "metadata": {
  "hide_input": false,
  "kernelspec": {
   "display_name": "Python 2",
   "language": "python",
   "name": "python2"
  },
  "language_info": {
   "codemirror_mode": {
    "name": "ipython",
    "version": 2
   },
   "file_extension": ".py",
   "mimetype": "text/x-python",
   "name": "python",
   "nbconvert_exporter": "python",
   "pygments_lexer": "ipython2",
   "version": "2.7.15"
  },
  "toc": {
   "base_numbering": 1,
   "nav_menu": {},
   "number_sections": false,
   "sideBar": true,
   "skip_h1_title": false,
   "title_cell": "Table of Contents",
   "title_sidebar": "Contents",
   "toc_cell": true,
   "toc_position": {},
   "toc_section_display": "block",
   "toc_window_display": true
  }
 },
 "nbformat": 4,
 "nbformat_minor": 1
}
